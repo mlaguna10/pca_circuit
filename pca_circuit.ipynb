{
 "cells": [
  {
   "cell_type": "code",
   "execution_count": 83,
   "id": "7a064240",
   "metadata": {
    "scrolled": true
   },
   "outputs": [
    {
     "name": "stdout",
     "output_type": "stream",
     "text": [
      "Looking in indexes: https://pypi.org/simple, https://pip.repos.neuron.amazonaws.com\n",
      "Requirement already satisfied: amazon-braket-sdk in /home/ec2-user/anaconda3/envs/python3/lib/python3.8/site-packages (1.34.3.post0)\n",
      "Requirement already satisfied: backoff in /home/ec2-user/anaconda3/envs/python3/lib/python3.8/site-packages (from amazon-braket-sdk) (2.2.1)\n",
      "Requirement already satisfied: boto3>=1.22.3 in /home/ec2-user/anaconda3/envs/python3/lib/python3.8/site-packages (from amazon-braket-sdk) (1.26.6)\n",
      "Requirement already satisfied: openpulse in /home/ec2-user/anaconda3/envs/python3/lib/python3.8/site-packages (from amazon-braket-sdk) (0.4.1)\n",
      "Requirement already satisfied: sympy in /home/ec2-user/anaconda3/envs/python3/lib/python3.8/site-packages (from amazon-braket-sdk) (1.9)\n",
      "Requirement already satisfied: oqpy==0.1.1 in /home/ec2-user/anaconda3/envs/python3/lib/python3.8/site-packages (from amazon-braket-sdk) (0.1.1)\n",
      "Requirement already satisfied: openqasm3 in /home/ec2-user/anaconda3/envs/python3/lib/python3.8/site-packages (from amazon-braket-sdk) (0.4.0)\n",
      "Requirement already satisfied: amazon-braket-default-simulator>=1.10.0 in /home/ec2-user/anaconda3/envs/python3/lib/python3.8/site-packages (from amazon-braket-sdk) (1.10.2)\n",
      "Requirement already satisfied: boltons in /home/ec2-user/anaconda3/envs/python3/lib/python3.8/site-packages (from amazon-braket-sdk) (21.0.0)\n",
      "Requirement already satisfied: networkx in /home/ec2-user/anaconda3/envs/python3/lib/python3.8/site-packages (from amazon-braket-sdk) (2.6.3)\n",
      "Requirement already satisfied: numpy in /home/ec2-user/anaconda3/envs/python3/lib/python3.8/site-packages (from amazon-braket-sdk) (1.23.5)\n",
      "Requirement already satisfied: amazon-braket-schemas>=1.12.0 in /home/ec2-user/anaconda3/envs/python3/lib/python3.8/site-packages (from amazon-braket-sdk) (1.13.1.post1)\n",
      "Requirement already satisfied: nest-asyncio in /home/ec2-user/anaconda3/envs/python3/lib/python3.8/site-packages (from amazon-braket-sdk) (1.5.1)\n",
      "Requirement already satisfied: mypy-extensions<0.5.0,>=0.4.3 in /home/ec2-user/anaconda3/envs/python3/lib/python3.8/site-packages (from oqpy==0.1.1->amazon-braket-sdk) (0.4.3)\n",
      "Requirement already satisfied: antlr4-python3-runtime==4.9.2 in /home/ec2-user/anaconda3/envs/python3/lib/python3.8/site-packages (from amazon-braket-default-simulator>=1.10.0->amazon-braket-sdk) (4.9.2)\n",
      "Requirement already satisfied: opt-einsum in /home/ec2-user/anaconda3/envs/python3/lib/python3.8/site-packages (from amazon-braket-default-simulator>=1.10.0->amazon-braket-sdk) (3.3.0)\n",
      "Requirement already satisfied: scipy in /home/ec2-user/anaconda3/envs/python3/lib/python3.8/site-packages (from amazon-braket-default-simulator>=1.10.0->amazon-braket-sdk) (1.5.3)\n",
      "Requirement already satisfied: pydantic==1.9.0 in /home/ec2-user/anaconda3/envs/python3/lib/python3.8/site-packages (from amazon-braket-default-simulator>=1.10.0->amazon-braket-sdk) (1.9.0)\n",
      "Requirement already satisfied: typing-extensions>=3.7.4.3 in /home/ec2-user/anaconda3/envs/python3/lib/python3.8/site-packages (from pydantic==1.9.0->amazon-braket-default-simulator>=1.10.0->amazon-braket-sdk) (4.0.0)\n",
      "Requirement already satisfied: jmespath<2.0.0,>=0.7.1 in /home/ec2-user/anaconda3/envs/python3/lib/python3.8/site-packages (from boto3>=1.22.3->amazon-braket-sdk) (0.10.0)\n",
      "Requirement already satisfied: botocore<1.30.0,>=1.29.6 in /home/ec2-user/anaconda3/envs/python3/lib/python3.8/site-packages (from boto3>=1.22.3->amazon-braket-sdk) (1.29.16)\n",
      "Requirement already satisfied: s3transfer<0.7.0,>=0.6.0 in /home/ec2-user/anaconda3/envs/python3/lib/python3.8/site-packages (from boto3>=1.22.3->amazon-braket-sdk) (0.6.0)\n",
      "Requirement already satisfied: importlib-metadata in /home/ec2-user/anaconda3/envs/python3/lib/python3.8/site-packages (from openpulse->amazon-braket-sdk) (4.8.2)\n",
      "Requirement already satisfied: mpmath>=0.19 in /home/ec2-user/anaconda3/envs/python3/lib/python3.8/site-packages (from sympy->amazon-braket-sdk) (1.2.1)\n",
      "Requirement already satisfied: urllib3<1.27,>=1.25.4 in /home/ec2-user/anaconda3/envs/python3/lib/python3.8/site-packages (from botocore<1.30.0,>=1.29.6->boto3>=1.22.3->amazon-braket-sdk) (1.26.8)\n",
      "Requirement already satisfied: python-dateutil<3.0.0,>=2.1 in /home/ec2-user/anaconda3/envs/python3/lib/python3.8/site-packages (from botocore<1.30.0,>=1.29.6->boto3>=1.22.3->amazon-braket-sdk) (2.8.2)\n",
      "Requirement already satisfied: zipp>=0.5 in /home/ec2-user/anaconda3/envs/python3/lib/python3.8/site-packages (from importlib-metadata->openpulse->amazon-braket-sdk) (3.6.0)\n",
      "Requirement already satisfied: six>=1.5 in /home/ec2-user/anaconda3/envs/python3/lib/python3.8/site-packages (from python-dateutil<3.0.0,>=2.1->botocore<1.30.0,>=1.29.6->boto3>=1.22.3->amazon-braket-sdk) (1.16.0)\n",
      "\u001b[33mWARNING: You are using pip version 22.0.4; however, version 22.3.1 is available.\n",
      "You should consider upgrading via the '/home/ec2-user/anaconda3/envs/python3/bin/python -m pip install --upgrade pip' command.\u001b[0m\u001b[33m\n",
      "\u001b[0m"
     ]
    }
   ],
   "source": [
    "!pip install amazon-braket-sdk"
   ]
  },
  {
   "cell_type": "code",
   "execution_count": 84,
   "id": "cb2bad0c",
   "metadata": {},
   "outputs": [],
   "source": [
    "# AWS imports: Import Braket SDK modules\n",
    "from braket.circuits import Circuit\n",
    "from braket.devices import LocalSimulator\n",
    "import numpy as np\n",
    "import string\n",
    "from braket.circuits import Gate\n",
    "from braket.circuits import Observable\n",
    "import matplotlib.pyplot as plt\n",
    "from braket.aws import AwsDevice"
   ]
  },
  {
   "cell_type": "code",
   "execution_count": 85,
   "id": "f5fb6152",
   "metadata": {
    "scrolled": true
   },
   "outputs": [
    {
     "name": "stdout",
     "output_type": "stream",
     "text": [
      "['CCNot', 'CNot', 'CPhaseShift', 'CPhaseShift00', 'CPhaseShift01', 'CPhaseShift10', 'CSwap', 'CV', 'CY', 'CZ', 'ECR', 'GPi', 'GPi2', 'H', 'I', 'ISwap', 'MS', 'PSwap', 'PhaseShift', 'PulseGate', 'Rx', 'Ry', 'Rz', 'S', 'Si', 'Swap', 'T', 'Ti', 'Unitary', 'V', 'Vi', 'X', 'XX', 'XY', 'Y', 'YY', 'Z', 'ZZ']\n"
     ]
    }
   ],
   "source": [
    "# print all available gates in Amazon Braket\n",
    "gate_set = [attr for attr in dir(Gate) if attr[0] in string.ascii_uppercase]\n",
    "print(gate_set)"
   ]
  },
  {
   "cell_type": "markdown",
   "id": "ae606c91",
   "metadata": {},
   "source": [
    "# Circuit\n",
    "U gates: https://subscription.packtpub.com/book/programming/9781838828448/6/ch06lvl1sec44/building-our-circuits-with-the-basis-gates-u1-u2-u3-and-id"
   ]
  },
  {
   "cell_type": "code",
   "execution_count": 86,
   "id": "a2b379e4",
   "metadata": {},
   "outputs": [],
   "source": [
    "def ret_matrix(value):\n",
    "    return np.array([[np.cos(value/2), -np.exp(1j*value)*np.sin(value/2)],[np.exp(1j*value)*np.sin(value/2), np.exp(2*1j*value)*np.cos(value/2)]])"
   ]
  },
  {
   "cell_type": "code",
   "execution_count": 87,
   "id": "c9a29237",
   "metadata": {},
   "outputs": [
    {
     "name": "stdout",
     "output_type": "stream",
     "text": [
      "T  : |0|1|2|3|4|5|6|7|8 |9|10|11|12|13|14|15|16|17|18|19|20|21|22|23|24|25|            Result Types            |\n",
      "                                                                                                                \n",
      "q0 : ---X-U-----------------------------------------------------------------------------------------------------\n",
      "        |                                                                                                       \n",
      "q1 : -U-C-U-H-X-H-H-X-Ti-X----X--T--X--Ti-X-----X--T--H--H-----------X--H---------------------------------------\n",
      "              |     |    |    |     |     |     |                    |                                          \n",
      "q2 : -U-C-U-H-C-H---C----C-X--C--X--C-----C--X--C--X--T--X--Ti-X--H--C--H---------------------------------------\n",
      "        |                  |     |           |     |     |     |                                                \n",
      "q3 : -H-|------------------C-----C-----------C-----C-----C--T--C--H--------Expectation(Z)-Sample(Z)-Probability-\n",
      "        |                                                                                                       \n",
      "q4 : ---X-U-----------------------------------------------------------------------------------------------------\n",
      "\n",
      "T  : |0|1|2|3|4|5|6|7|8 |9|10|11|12|13|14|15|16|17|18|19|20|21|22|23|24|25|            Result Types            |\n"
     ]
    }
   ],
   "source": [
    "circuit = Circuit()\n",
    "\n",
    "circuit.unitary(matrix=ret_matrix(0.465), targets=[1])\n",
    "circuit.unitary(matrix=ret_matrix(0.465), targets=[2])\n",
    "circuit.h(3)\n",
    "\n",
    "circuit.cnot(1,0)\n",
    "circuit.cnot(2,4)\n",
    "\n",
    "circuit.unitary(matrix=ret_matrix(1.570), targets=[0])\n",
    "circuit.unitary(matrix=ret_matrix(1.950), targets=[1])\n",
    "circuit.unitary(matrix=ret_matrix(1.950), targets=[2])\n",
    "circuit.unitary(matrix=ret_matrix(1.570), targets=[4])\n",
    "\n",
    "circuit.h(1)\n",
    "circuit.h(2)\n",
    "\n",
    "circuit.cnot(2,1)\n",
    "\n",
    "circuit.h(1)\n",
    "circuit.h(2)\n",
    "\n",
    "circuit.h(1)\n",
    "\n",
    "circuit.cnot(2,1)\n",
    "\n",
    "circuit.ti(1)\n",
    "\n",
    "circuit.cnot(2,1)\n",
    "\n",
    "circuit.cnot(3,2)\n",
    "\n",
    "circuit.cnot(2,1)\n",
    "\n",
    "circuit.t(1)\n",
    "circuit.cnot(3,2)\n",
    "\n",
    "circuit.cnot(2,1)\n",
    "\n",
    "circuit.ti(1)\n",
    "\n",
    "circuit.cnot(2,1)\n",
    "\n",
    "circuit.cnot(3,2)\n",
    "\n",
    "circuit.cnot(2,1)\n",
    "\n",
    "circuit.t(1)\n",
    "circuit.cnot(3,2)\n",
    "\n",
    "circuit.h(1)\n",
    "circuit.t(2)\n",
    "\n",
    "circuit.h(1)\n",
    "circuit.cnot(3,2)\n",
    "\n",
    "circuit.ti(2)\n",
    "circuit.t(3)\n",
    "\n",
    "circuit.cnot(3,2)\n",
    "\n",
    "circuit.h(2)\n",
    "circuit.h(3)\n",
    "\n",
    "circuit.cnot(2,1)\n",
    "circuit.expectation(Observable.Z(), target=[3])\n",
    "circuit.sample(observable=Observable.Z(), target=3)\n",
    "circuit.probability(target=3)\n",
    "\n",
    "circuit.h(2)\n",
    "circuit.h(1)\n",
    "\n",
    "print(circuit)"
   ]
  },
  {
   "cell_type": "code",
   "execution_count": 88,
   "id": "ac3fce00",
   "metadata": {},
   "outputs": [
    {
     "name": "stdout",
     "output_type": "stream",
     "text": [
      "[Expectation(observable=Z('qubit_count': 1), target=QubitSet([Qubit(3)])), Sample(observable=Z('qubit_count': 1), target=QubitSet([Qubit(3)])), Probability(target=QubitSet([Qubit(3)]))]\n"
     ]
    }
   ],
   "source": [
    "print(circuit.result_types)"
   ]
  },
  {
   "cell_type": "markdown",
   "id": "69b19466",
   "metadata": {},
   "source": [
    "# Local Simulator"
   ]
  },
  {
   "cell_type": "code",
   "execution_count": 89,
   "id": "ba126d9d",
   "metadata": {},
   "outputs": [
    {
     "name": "stdout",
     "output_type": "stream",
     "text": [
      "Counter({'01100': 1591, '11100': 1096, '01101': 1080, '11101': 725, '10101': 630, '11001': 595, '10001': 589, '00101': 494, '11000': 467, '10100': 456, '01001': 449, '01000': 410, '00100': 394, '10000': 218, '00001': 218, '10110': 125, '01011': 124, '00111': 118, '11010': 116, '00000': 105})\n"
     ]
    }
   ],
   "source": [
    "local_device = LocalSimulator()\n",
    "\n",
    "local_result = local_device.run(circuit, shots=10000).result()\n",
    "local_counts = local_result.measurement_counts\n",
    "print(local_counts)"
   ]
  },
  {
   "cell_type": "code",
   "execution_count": 90,
   "id": "6e39e29b",
   "metadata": {},
   "outputs": [
    {
     "data": {
      "image/png": "[encoded data removed]",
      "text/plain": [
       "<Figure size 432x288 with 1 Axes>"
      ]
     },
     "metadata": {
      "needs_background": "light"
     },
     "output_type": "display_data"
    }
   ],
   "source": [
    "# plot using Counter\n",
    "plt.bar(local_counts.keys(), local_counts.values());\n",
    "plt.xlabel('bitstrings');\n",
    "plt.ylabel('counts');"
   ]
  },
  {
   "cell_type": "code",
   "execution_count": 91,
   "id": "24a583ee",
   "metadata": {},
   "outputs": [
    {
     "name": "stdout",
     "output_type": "stream",
     "text": [
      "Expectation value for: 0.9034\n"
     ]
    }
   ],
   "source": [
    "print(\"Expectation value for:\", local_result.values[0])"
   ]
  },
  {
   "cell_type": "code",
   "execution_count": 92,
   "id": "d587037a",
   "metadata": {},
   "outputs": [
    {
     "name": "stdout",
     "output_type": "stream",
     "text": [
      "Sample: [1 1 1 ... 1 1 1]\n"
     ]
    }
   ],
   "source": [
    "print(\"Sample:\", local_result.values[1])"
   ]
  },
  {
   "cell_type": "code",
   "execution_count": 93,
   "id": "b94bacc1",
   "metadata": {},
   "outputs": [
    {
     "name": "stdout",
     "output_type": "stream",
     "text": [
      "Probability: [0.9517 0.0483]\n"
     ]
    }
   ],
   "source": [
    "print(\"Probability:\", local_result.values[2])"
   ]
  },
  {
   "cell_type": "markdown",
   "id": "fd64cb17",
   "metadata": {},
   "source": [
    "# Quantum SV1"
   ]
  },
  {
   "cell_type": "code",
   "execution_count": 94,
   "id": "7c554ae3",
   "metadata": {},
   "outputs": [
    {
     "name": "stdout",
     "output_type": "stream",
     "text": [
      "Counter({'01100': 1611, '11100': 1104, '01101': 1043, '11101': 697, '11001': 668, '10101': 657, '10001': 546, '00101': 494, '11000': 466, '01001': 445, '10100': 417, '01000': 394, '00100': 385, '10000': 245, '00001': 197, '10110': 151, '00111': 140, '11010': 125, '01011': 118, '00000': 97})\n"
     ]
    }
   ],
   "source": [
    "sv1_device = AwsDevice(\"arn:aws:braket:::device/quantum-simulator/amazon/sv1\")\n",
    "\n",
    "sv1_result = sv1_device.run(circuit, shots=10000).result()\n",
    "sv1_counts = sv1_result.measurement_counts\n",
    "print(sv1_counts)"
   ]
  },
  {
   "cell_type": "code",
   "execution_count": 95,
   "id": "b002a78c",
   "metadata": {},
   "outputs": [
    {
     "name": "stdout",
     "output_type": "stream",
     "text": [
      "Expectation value for: [0.9466 0.0534]\n"
     ]
    }
   ],
   "source": [
    "print(\"Expectation value for:\", sv1_result.values[2])"
   ]
  },
  {
   "cell_type": "markdown",
   "id": "6e4f6a45",
   "metadata": {},
   "source": [
    "# Quantum DM1"
   ]
  },
  {
   "cell_type": "code",
   "execution_count": 103,
   "id": "6f627880",
   "metadata": {},
   "outputs": [
    {
     "name": "stdout",
     "output_type": "stream",
     "text": [
      "Counter({'01100': 1596, '11100': 1072, '01101': 1036, '11101': 718, '10101': 635, '11001': 633, '10001': 532, '00101': 529, '11000': 493, '10100': 460, '01001': 458, '01000': 396, '00100': 395, '00001': 241, '10000': 205, '01011': 143, '11010': 134, '00111': 121, '10110': 107, '00000': 96})\n"
     ]
    }
   ],
   "source": [
    "dm1_device = AwsDevice(\"arn:aws:braket:::device/quantum-simulator/amazon/dm1\")\n",
    "\n",
    "dm1_result = dm1_device.run(circuit, shots=10000).result()\n",
    "dm1_counts = dm1_result.measurement_counts\n",
    "print(dm1_counts)"
   ]
  },
  {
   "cell_type": "code",
   "execution_count": 104,
   "id": "6c718def",
   "metadata": {},
   "outputs": [
    {
     "name": "stdout",
     "output_type": "stream",
     "text": [
      "Expectation value for: [0.9495 0.0505]\n"
     ]
    }
   ],
   "source": [
    "print(\"Expectation value for:\", dm1_result.values[2])"
   ]
  },
  {
   "cell_type": "code",
   "execution_count": null,
   "id": "28e58287",
   "metadata": {},
   "outputs": [],
   "source": []
  }
 ],
 "metadata": {
  "kernelspec": {
   "display_name": "conda_python3",
   "language": "python",
   "name": "conda_python3"
  },
  "language_info": {
   "codemirror_mode": {
    "name": "ipython",
    "version": 3
   },
   "file_extension": ".py",
   "mimetype": "text/x-python",
   "name": "python",
   "nbconvert_exporter": "python",
   "pygments_lexer": "ipython3",
   "version": "3.8.12"
  }
 },
 "nbformat": 4,
 "nbformat_minor": 5
}
